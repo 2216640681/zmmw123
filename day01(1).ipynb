{
 "cells": [
  {
   "cell_type": "code",
   "execution_count": null,
   "metadata": {},
   "outputs": [],
   "source": []
  },
  {
   "cell_type": "code",
   "execution_count": 28,
   "metadata": {},
   "outputs": [
    {
     "name": "stdout",
     "output_type": "stream",
     "text": [
      "陈萌,010-116321,M,19000101,北京市海淀区苏州街3号大恒科技大厦北座6层,100080,10116,010-82808028,010-82828028-208,chenmeng@dist.com.cn,0\n",
      "\n",
      "陈萌,010-116321,M,19000101,北京市海淀区苏州街3号大恒科技大厦北座6层,100080,10116,010-82808028,010-82828028-208,chenmeng@dist.com.cn,0\n",
      "0\n",
      "<class 'int'>\n",
      "陈萌\n",
      "陈萌\n",
      "chenmeng@dist.com\n",
      "chenmeng@dist.com\n",
      "difonfohAejtu/dpn\n",
      "['陈萌', '010-116321', 'M', '19000101', '北京市海淀区苏州街3号大恒科技大厦北座6层', '100080', '10116', '010-82808028', '010-82828028-208', 'chenmeng@dist.com.cn', '0\\n']\n",
      "<class 'list'>\n",
      "陈萌\n",
      "chenmeng@dist.com.cn\n"
     ]
    }
   ],
   "source": [
    "file='C:\\\\Program Files (x86)\\\\gakataka\\\\Student\\\\recv\\\\kaifangX.txt'\n",
    "open_file=open(file,mode='r',encoding='gbk')\n",
    "line=open_file.readline()\n",
    "print(line)\n",
    "strip_line=line.strip('\\n')\n",
    "print(strip_line)\n",
    "name=strip_line.find('陈萌')\n",
    "print(name)\n",
    "print(type(name))\n",
    "print(strip_line[0:2])\n",
    "chenmeng=strip_line[0:2]\n",
    "print(chenmeng)\n",
    "email_index=strip_line.find('chenmeng@dist.com.cn')\n",
    "print(strip_line[90:107])\n",
    "email=strip_line[90:107]\n",
    "print(email)\n",
    "kong=''\n",
    "for i in email:\n",
    "    jiami=chr(ord(i)+1)\n",
    "    kong=kong+jiami\n",
    "print(kong)\n",
    "\n",
    "split_line=line.split(',')\n",
    "print(split_line)\n",
    "print(type(split_line))\n",
    "name=split_line[0]\n",
    "print(name)\n",
    "email=split_line[9]\n",
    "print(email)\n",
    "\n",
    "\n",
    "\n",
    "\n",
    "\n",
    "open_file.close()\n"
   ]
  },
  {
   "cell_type": "code",
   "execution_count": null,
   "metadata": {},
   "outputs": [],
   "source": []
  }
 ],
 "metadata": {
  "kernelspec": {
   "display_name": "Python 3",
   "language": "python",
   "name": "python3"
  },
  "language_info": {
   "codemirror_mode": {
    "name": "ipython",
    "version": 3
   },
   "file_extension": ".py",
   "mimetype": "text/x-python",
   "name": "python",
   "nbconvert_exporter": "python",
   "pygments_lexer": "ipython3",
   "version": "3.6.4"
  }
 },
 "nbformat": 4,
 "nbformat_minor": 2
}
